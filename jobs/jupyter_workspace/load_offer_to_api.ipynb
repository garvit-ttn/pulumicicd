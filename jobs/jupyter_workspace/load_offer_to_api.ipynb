{
 "cells": [
  {
   "cell_type": "code",
   "execution_count": 1,
   "metadata": {
    "collapsed": true
   },
   "outputs": [
    {
     "data": {
      "text/plain": "<IPython.core.display.HTML object>",
      "text/html": "Current session configs: <tt>{'conf': {'spark.sql.legacy.parquet.datetimeRebaseModeInRead': 'LEGACY', 'spark.sql.legacy.parquet.datetimeRebaseModeInWrite': 'LEGACY'}, 'kind': 'pyspark'}</tt><br>"
     },
     "metadata": {},
     "output_type": "display_data"
    },
    {
     "data": {
      "text/plain": "<IPython.core.display.HTML object>",
      "text/html": "No active sessions."
     },
     "metadata": {},
     "output_type": "display_data"
    }
   ],
   "source": [
    "%%configure -f\n",
    "{\n",
    "    \"conf\": {\n",
    "        \"spark.sql.legacy.parquet.datetimeRebaseModeInRead\": \"LEGACY\",\n",
    "        \"spark.sql.legacy.parquet.datetimeRebaseModeInWrite\": \"LEGACY\"\n",
    "    }\n",
    "}"
   ]
  },
  {
   "cell_type": "code",
   "execution_count": 2,
   "outputs": [
    {
     "data": {
      "text/plain": "FloatProgress(value=0.0, bar_style='info', description='Progress:', layout=Layout(height='25px', width='50%'),…",
      "application/vnd.jupyter.widget-view+json": {
       "version_major": 2,
       "version_minor": 0,
       "model_id": "f41183cf9f5b4a1bb243c8d97ffe93cb"
      }
     },
     "metadata": {},
     "output_type": "display_data"
    }
   ],
   "source": [
    "from awsglue.context import GlueContext\n",
    "from awsglue.job import Job\n",
    "from awsglue.utils import getResolvedOptions\n",
    "from pyspark.sql import DataFrame\n",
    "from pyspark.sql.functions import *\n",
    "from pyspark.sql.types import *\n",
    "\n",
    "from typing import Iterable\n",
    "\n",
    "sc = spark.sparkContext\n",
    "glueContext = GlueContext(sc)\n",
    "job = Job(glueContext)\n",
    "\n",
    "spark = glueContext.spark_session"
   ],
   "metadata": {
    "collapsed": false
   }
  },
  {
   "cell_type": "code",
   "execution_count": 4,
   "outputs": [
    {
     "data": {
      "text/plain": "FloatProgress(value=0.0, bar_style='info', description='Progress:', layout=Layout(height='25px', width='50%'),…",
      "application/vnd.jupyter.widget-view+json": {
       "version_major": 2,
       "version_minor": 0,
       "model_id": "9f3dc7aa57b34e1c851f7b25747aa7cf"
      }
     },
     "metadata": {},
     "output_type": "display_data"
    }
   ],
   "source": [
    "predictions: DataFrame = spark.read.option(\"recursiveFileLookup\", \"true\").load(\n",
    "    path='s3://cvm-krz-conformed-7a4f071/predictions/part-00000-ebbf45d3-a716-4675-b300-7682d5438db9-c000.snappy.parquet',\n",
    "    format='parquet'\n",
    ")"
   ],
   "metadata": {
    "collapsed": false
   }
  },
  {
   "cell_type": "code",
   "execution_count": 5,
   "outputs": [
    {
     "data": {
      "text/plain": "FloatProgress(value=0.0, bar_style='info', description='Progress:', layout=Layout(height='25px', width='50%'),…",
      "application/vnd.jupyter.widget-view+json": {
       "version_major": 2,
       "version_minor": 0,
       "model_id": "df03f5d0faee4d4da0deaba41e8d47d9"
      }
     },
     "metadata": {},
     "output_type": "display_data"
    },
    {
     "name": "stdout",
     "output_type": "stream",
     "text": [
      "root\n",
      " |-- idi_counterparty: string (nullable = true)\n",
      " |-- next_best_offer: string (nullable = true)\n",
      "\n",
      "+----------------+---------------+\n",
      "|idi_counterparty|next_best_offer|\n",
      "+----------------+---------------+\n",
      "|             137|       offer_01|\n",
      "|             137|       offer_02|\n",
      "|             137|       offer_03|\n",
      "|             139|       offer_06|\n",
      "|             139|       offer_07|\n",
      "|             139|       offer_08|\n",
      "|             128|       offer_04|\n",
      "|             128|       offer_02|\n",
      "|             128|       offer_05|\n",
      "+----------------+---------------+"
     ]
    }
   ],
   "source": [
    "predictions = predictions.select('idi_counterparty', 'next_best_offer')\n",
    "predictions.printSchema()\n",
    "predictions.show()"
   ],
   "metadata": {
    "collapsed": false
   }
  },
  {
   "cell_type": "code",
   "execution_count": 10,
   "outputs": [
    {
     "data": {
      "text/plain": "FloatProgress(value=0.0, bar_style='info', description='Progress:', layout=Layout(height='25px', width='50%'),…",
      "application/vnd.jupyter.widget-view+json": {
       "version_major": 2,
       "version_minor": 0,
       "model_id": "a4e84f9f68414aa38fb4803c27bb4dce"
      }
     },
     "metadata": {},
     "output_type": "display_data"
    }
   ],
   "source": [
    "data = [\n",
    "    {'idi_gcr': 139, 'idi_src': 171, 'bu': 'A'},\n",
    "    {'idi_gcr': 139, 'idi_src': 271, 'bu': 'B'},\n",
    "    # {'idi_gcr': 121235671, 'idi_src': 371, 'bu': 'C'},\n",
    "    # {'idi_gcr': 121235672, 'idi_src': 171, 'bu': 'A'},\n",
    "    {'idi_gcr': 138, 'idi_src': 271, 'bu': 'B'},\n",
    "    # {'idi_gcr': 121235672, 'idi_src': 371, 'bu': 'C'},\n",
    "    # {'idi_gcr': 121235673, 'idi_src': 171, 'bu': 'A'},\n",
    "    # {'idi_gcr': 121235673, 'idi_src': 271, 'bu': 'B'},\n",
    "    # {'idi_gcr': 121235673, 'idi_src': 371, 'bu': 'C'},\n",
    "]\n",
    "id_mapping: DataFrame = spark.createDataFrame(data)"
   ],
   "metadata": {
    "collapsed": false
   }
  },
  {
   "cell_type": "code",
   "execution_count": 11,
   "outputs": [
    {
     "data": {
      "text/plain": "FloatProgress(value=0.0, bar_style='info', description='Progress:', layout=Layout(height='25px', width='50%'),…",
      "application/vnd.jupyter.widget-view+json": {
       "version_major": 2,
       "version_minor": 0,
       "model_id": "3a0ec05f2e1f427ba86cf3f5bc3d9cc9"
      }
     },
     "metadata": {},
     "output_type": "display_data"
    },
    {
     "name": "stdout",
     "output_type": "stream",
     "text": [
      "+---+-------+-------+\n",
      "| bu|idi_gcr|idi_src|\n",
      "+---+-------+-------+\n",
      "|  A|    139|    171|\n",
      "|  B|    139|    271|\n",
      "|  B|    138|    271|\n",
      "+---+-------+-------+"
     ]
    }
   ],
   "source": [
    "id_mapping.show()"
   ],
   "metadata": {
    "collapsed": false
   }
  },
  {
   "cell_type": "markdown",
   "source": [],
   "metadata": {
    "collapsed": false
   }
  },
  {
   "cell_type": "code",
   "execution_count": 12,
   "outputs": [
    {
     "data": {
      "text/plain": "FloatProgress(value=0.0, bar_style='info', description='Progress:', layout=Layout(height='25px', width='50%'),…",
      "application/vnd.jupyter.widget-view+json": {
       "version_major": 2,
       "version_minor": 0,
       "model_id": "712c20f84ef44836be6a051a15945a25"
      }
     },
     "metadata": {},
     "output_type": "display_data"
    },
    {
     "name": "stdout",
     "output_type": "stream",
     "text": [
      "+---------------+----+-------+-------+\n",
      "|next_best_offer|  bu|idi_gcr|idi_src|\n",
      "+---------------+----+-------+-------+\n",
      "|       offer_01|null|   null|   null|\n",
      "|       offer_02|null|   null|   null|\n",
      "|       offer_03|null|   null|   null|\n",
      "|       offer_04|null|   null|   null|\n",
      "|       offer_02|null|   null|   null|\n",
      "|       offer_05|null|   null|   null|\n",
      "|       offer_06|   A|    139|    171|\n",
      "|       offer_06|   B|    139|    271|\n",
      "|       offer_07|   A|    139|    171|\n",
      "|       offer_07|   B|    139|    271|\n",
      "|       offer_08|   A|    139|    171|\n",
      "|       offer_08|   B|    139|    271|\n",
      "+---------------+----+-------+-------+"
     ]
    }
   ],
   "source": [
    "a = predictions.join(id_mapping, predictions.idi_counterparty == id_mapping.idi_gcr, 'left').drop('idi_counterparty')\n",
    "a.show()"
   ],
   "metadata": {
    "collapsed": false
   }
  },
  {
   "cell_type": "code",
   "execution_count": 14,
   "outputs": [
    {
     "data": {
      "text/plain": "FloatProgress(value=0.0, bar_style='info', description='Progress:', layout=Layout(height='25px', width='50%'),…",
      "application/vnd.jupyter.widget-view+json": {
       "version_major": 2,
       "version_minor": 0,
       "model_id": "9441a43807864442bc83ecb1d5e8c341"
      }
     },
     "metadata": {},
     "output_type": "display_data"
    },
    {
     "name": "stdout",
     "output_type": "stream",
     "text": [
      "+------+------+--------+--------+--------+\n",
      "|gcr_id|crf_id|share_id|braze_id|offer   |\n",
      "+------+------+--------+--------+--------+\n",
      "|139   |171   |271     |dummy   |offer_08|\n",
      "|139   |171   |271     |dummy   |offer_07|\n",
      "|139   |171   |271     |dummy   |offer_06|\n",
      "+------+------+--------+--------+--------+"
     ]
    }
   ],
   "source": [
    "a = predictions.select('idi_counterparty').dropDuplicates()\n",
    "a = a.join(id_mapping, a.idi_counterparty == id_mapping.idi_gcr, 'left').drop('idi_counterparty').na.drop(\n",
    "    subset=['idi_gcr'])\n",
    "a = a.groupBy('idi_gcr').pivot('bu').agg(collect_set(col('idi_src')))\n",
    "\n",
    "r = a\n",
    "\n",
    "from typing import Dict\n",
    "\n",
    "\n",
    "def reverted_meld(df: DataFrame, cols: Dict[str, str]):\n",
    "    for f, t in cols.items():\n",
    "        if f in df.columns:\n",
    "            df = df.withColumn(t, when(col(f)[0].isNull(), 'dummy').otherwise(col(f)[0].cast(StringType()))).drop(f)\n",
    "        else:\n",
    "            df = df.withColumn(t, lit('dummy').cast(StringType())).drop(f)\n",
    "    return df\n",
    "\n",
    "\n",
    "r = reverted_meld(\n",
    "    r,\n",
    "    {\n",
    "        'A': 'crf_id',\n",
    "        'B': 'share_id',\n",
    "        'C': 'braze_id'\n",
    "    }\n",
    ")\n",
    "\n",
    "r = r.join(predictions, a.idi_gcr == predictions.idi_counterparty, how='left')\n",
    "r = r.drop('idi_counterparty')\n",
    "r = r.withColumnRenamed('idi_gcr', 'gcr_id').withColumnRenamed('next_best_offer', 'offer')\n",
    "\n",
    "r.show(100, truncate=False)\n",
    "\n",
    "# r = a.withColumn('bu_id', concat(col('bu'), col('idi_src')))\n",
    "#\n",
    "# r = r.groupBy('idi_gcr').agg(collect_list(concat(col('idi_src'), col('bu'), col('next_best_offer'))))\n",
    "# r.orderBy('idi_gcr').show(20, truncate=False)"
   ],
   "metadata": {
    "collapsed": false
   }
  },
  {
   "cell_type": "code",
   "execution_count": null,
   "outputs": [],
   "source": [
    "from pyspark.sql.window import Window\n",
    "\n",
    "asd = r.withColumn('rank', row_number().over(Window.partitionBy(\"gcr_id\").orderBy('gcr_id')))\n",
    "asd.show(truncate=False)\n",
    "asd.printSchema()\n"
   ],
   "metadata": {
    "collapsed": false
   }
  },
  {
   "cell_type": "code",
   "execution_count": null,
   "outputs": [],
   "source": [],
   "metadata": {
    "collapsed": false
   }
  }
 ],
 "metadata": {
  "kernelspec": {
   "name": "pysparkkernel",
   "language": "python",
   "display_name": "PySpark"
  },
  "language_info": {
   "codemirror_mode": {
    "name": "ipython",
    "version": 2
   },
   "file_extension": ".py",
   "mimetype": "text/x-python",
   "name": "python",
   "nbconvert_exporter": "python",
   "pygments_lexer": "ipython2",
   "version": "2.7.6"
  }
 },
 "nbformat": 4,
 "nbformat_minor": 0
}
