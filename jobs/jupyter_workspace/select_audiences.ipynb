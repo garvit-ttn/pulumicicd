{
 "cells": [
  {
   "cell_type": "code",
   "execution_count": 1,
   "metadata": {
    "collapsed": true
   },
   "outputs": [
    {
     "data": {
      "text/plain": "<IPython.core.display.HTML object>",
      "text/html": "Current session configs: <tt>{'conf': {'spark.sql.legacy.parquet.datetimeRebaseModeInRead': 'LEGACY', 'spark.sql.legacy.parquet.datetimeRebaseModeInWrite': 'LEGACY'}, 'kind': 'pyspark'}</tt><br>"
     },
     "metadata": {},
     "output_type": "display_data"
    },
    {
     "data": {
      "text/plain": "<IPython.core.display.HTML object>",
      "text/html": "No active sessions."
     },
     "metadata": {},
     "output_type": "display_data"
    }
   ],
   "source": [
    "%%configure -f\n",
    "{\n",
    "    \"conf\": {\n",
    "        \"spark.sql.legacy.parquet.datetimeRebaseModeInRead\": \"LEGACY\",\n",
    "        \"spark.sql.legacy.parquet.datetimeRebaseModeInWrite\": \"LEGACY\"\n",
    "    }\n",
    "}"
   ]
  },
  {
   "cell_type": "code",
   "execution_count": 2,
   "outputs": [
    {
     "data": {
      "text/plain": "FloatProgress(value=0.0, bar_style='info', description='Progress:', layout=Layout(height='25px', width='50%'),…",
      "application/vnd.jupyter.widget-view+json": {
       "version_major": 2,
       "version_minor": 0,
       "model_id": "82bbf4800edf4aadbada69030425d444"
      }
     },
     "metadata": {},
     "output_type": "display_data"
    }
   ],
   "source": [
    "from awsglue.context import GlueContext\n",
    "from awsglue.job import Job\n",
    "from awsglue.utils import getResolvedOptions\n",
    "from pyspark.sql import DataFrame\n",
    "from pyspark.sql.functions import *\n",
    "from pyspark.sql.types import *\n",
    "\n",
    "from typing import Iterable\n",
    "\n",
    "sc = spark.sparkContext\n",
    "glueContext = GlueContext(sc)\n",
    "job = Job(glueContext)\n",
    "\n",
    "spark = glueContext.spark_session"
   ],
   "metadata": {
    "collapsed": false
   }
  },
  {
   "cell_type": "code",
   "execution_count": 3,
   "outputs": [
    {
     "data": {
      "text/plain": "FloatProgress(value=0.0, bar_style='info', description='Progress:', layout=Layout(height='25px', width='50%'),…",
      "application/vnd.jupyter.widget-view+json": {
       "version_major": 2,
       "version_minor": 0,
       "model_id": "d0684a4cc78c46c9a1a17a2ebcdcd7c3"
      }
     },
     "metadata": {},
     "output_type": "display_data"
    }
   ],
   "source": [
    "audience_spec: DataFrame = spark.read.option(\"recursiveFileLookup\", \"true\").load(\n",
    "    path='s3://cvm-krz-landing-3e6bc5b/cvm-frontend-export/cvm/cdp_audience_information/LOAD00000001.parquet',\n",
    "    format='parquet'\n",
    ")"
   ],
   "metadata": {
    "collapsed": false
   }
  },
  {
   "cell_type": "code",
   "execution_count": 4,
   "outputs": [
    {
     "data": {
      "text/plain": "FloatProgress(value=0.0, bar_style='info', description='Progress:', layout=Layout(height='25px', width='50%'),…",
      "application/vnd.jupyter.widget-view+json": {
       "version_major": 2,
       "version_minor": 0,
       "model_id": "36037da892ab40fab007cb2c0fb50462"
      }
     },
     "metadata": {},
     "output_type": "display_data"
    },
    {
     "name": "stdout",
     "output_type": "stream",
     "text": [
      "root\n",
      " |-- id: integer (nullable = true)\n",
      " |-- campaign_name: string (nullable = true)\n",
      " |-- campaign_type: string (nullable = true)\n",
      " |-- campaign_query: string (nullable = true)\n",
      " |-- campaign_saved: byte (nullable = true)\n",
      " |-- campaign_stored: byte (nullable = true)\n",
      " |-- date_created: timestamp (nullable = true)\n",
      " |-- last_modified: timestamp (nullable = true)\n",
      " |-- user_id_id: integer (nullable = true)\n",
      " |-- draft: byte (nullable = true)\n",
      " |-- raw_query: string (nullable = true)"
     ]
    }
   ],
   "source": [
    "audience_spec.printSchema()"
   ],
   "metadata": {
    "collapsed": false
   }
  },
  {
   "cell_type": "code",
   "execution_count": 5,
   "outputs": [
    {
     "data": {
      "text/plain": "FloatProgress(value=0.0, bar_style='info', description='Progress:', layout=Layout(height='25px', width='50%'),…",
      "application/vnd.jupyter.widget-view+json": {
       "version_major": 2,
       "version_minor": 0,
       "model_id": "e94ba14f6cff4ca5af4d308801361d59"
      }
     },
     "metadata": {},
     "output_type": "display_data"
    }
   ],
   "source": [
    "rfm_results: DataFrame = spark.read.csv(\n",
    "    path='s3://cvm-dev-conformed-cc546fe/features/rfm/output/test_rfm_output.csv',\n",
    "    header=True\n",
    ")"
   ],
   "metadata": {
    "collapsed": false
   }
  },
  {
   "cell_type": "code",
   "execution_count": 6,
   "outputs": [
    {
     "data": {
      "text/plain": "FloatProgress(value=0.0, bar_style='info', description='Progress:', layout=Layout(height='25px', width='50%'),…",
      "application/vnd.jupyter.widget-view+json": {
       "version_major": 2,
       "version_minor": 0,
       "model_id": "3bf01418eed64a17ae01c183f48df27d"
      }
     },
     "metadata": {},
     "output_type": "display_data"
    },
    {
     "name": "stdout",
     "output_type": "stream",
     "text": [
      "root\n",
      " |-- idi_counterparty: string (nullable = true)\n",
      " |-- idi_proposition_level03: string (nullable = true)\n",
      " |-- recency: string (nullable = true)\n",
      " |-- frequency: string (nullable = true)\n",
      " |-- monetary: string (nullable = true)\n",
      " |-- r_rank_norm: string (nullable = true)\n",
      " |-- f_rank_norm: string (nullable = true)\n",
      " |-- m_rank_norm: string (nullable = true)\n",
      " |-- customer_segment: string (nullable = true)"
     ]
    }
   ],
   "source": [
    "rfm_results.printSchema()"
   ],
   "metadata": {
    "collapsed": false
   }
  },
  {
   "cell_type": "code",
   "execution_count": null,
   "outputs": [],
   "source": [],
   "metadata": {
    "collapsed": false
   }
  }
 ],
 "metadata": {
  "kernelspec": {
   "name": "pysparkkernel",
   "language": "python",
   "display_name": "PySpark"
  },
  "language_info": {
   "codemirror_mode": {
    "name": "ipython",
    "version": 2
   },
   "file_extension": ".py",
   "mimetype": "text/x-python",
   "name": "python",
   "nbconvert_exporter": "python",
   "pygments_lexer": "ipython2",
   "version": "2.7.6"
  }
 },
 "nbformat": 4,
 "nbformat_minor": 0
}
