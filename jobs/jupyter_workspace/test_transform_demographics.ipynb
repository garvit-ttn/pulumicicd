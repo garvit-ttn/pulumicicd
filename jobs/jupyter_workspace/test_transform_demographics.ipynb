{
 "cells": [
  {
   "cell_type": "code",
   "execution_count": 1,
   "outputs": [
    {
     "data": {
      "text/plain": "<IPython.core.display.HTML object>",
      "text/html": "Current session configs: <tt>{'conf': {'spark.sql.legacy.parquet.datetimeRebaseModeInRead': 'LEGACY', 'spark.sql.legacy.parquet.datetimeRebaseModeInWrite': 'LEGACY'}, 'kind': 'pyspark'}</tt><br>"
     },
     "metadata": {},
     "output_type": "display_data"
    },
    {
     "data": {
      "text/plain": "<IPython.core.display.HTML object>",
      "text/html": "No active sessions."
     },
     "metadata": {},
     "output_type": "display_data"
    }
   ],
   "source": [
    "% % configure -f\n",
    "{\n",
    "    \"conf\": {\n",
    "        \"spark.sql.legacy.parquet.datetimeRebaseModeInRead\": \"LEGACY\",\n",
    "        \"spark.sql.legacy.parquet.datetimeRebaseModeInWrite\": \"LEGACY\"\n",
    "    }\n",
    "}"
   ],
   "metadata": {
    "collapsed": false
   }
  },
  {
   "cell_type": "code",
   "execution_count": 2,
   "outputs": [
    {
     "data": {
      "text/plain": "FloatProgress(value=0.0, bar_style='info', description='Progress:', layout=Layout(height='25px', width='50%'),…",
      "application/vnd.jupyter.widget-view+json": {
       "version_major": 2,
       "version_minor": 0,
       "model_id": "e9c0b61826694a4e96116d8cbf8bb2c7"
      }
     },
     "metadata": {},
     "output_type": "display_data"
    }
   ],
   "source": [
    "from awsglue.context import GlueContext\n",
    "from awsglue.job import Job\n",
    "from awsglue.utils import getResolvedOptions\n",
    "from pyspark.sql import DataFrame\n",
    "from pyspark.sql.functions import *\n",
    "from pyspark.sql.types import *\n",
    "\n",
    "from typing import Iterable\n",
    "\n",
    "sc = spark.sparkContext\n",
    "glueContext = GlueContext(sc)\n",
    "job = Job(glueContext)\n",
    "\n",
    "spark = glueContext.spark_session"
   ],
   "metadata": {
    "collapsed": false
   }
  },
  {
   "cell_type": "code",
   "execution_count": 3,
   "outputs": [
    {
     "data": {
      "text/plain": "FloatProgress(value=0.0, bar_style='info', description='Progress:', layout=Layout(height='25px', width='50%'),…",
      "application/vnd.jupyter.widget-view+json": {
       "version_major": 2,
       "version_minor": 0,
       "model_id": "e0b612115bdf4fe987f13fbbb8c2b3cb"
      }
     },
     "metadata": {},
     "output_type": "display_data"
    }
   ],
   "source": [
    "crf_demographics_df = spark.read.option(\"recursiveFileLookup\", \"true\").load(\n",
    "    path='s3://cvm-develop/data_extracts/dev/sample_V2/demographics/crf',\n",
    "    format='parquet'\n",
    ")\n",
    "\n",
    "share_demographics_df = spark.read.option(\"recursiveFileLookup\", \"true\").load(\n",
    "    path='s3://cvm-develop/data_extracts/dev/sample_V2/demographics/share',\n",
    "    format='parquet'\n",
    ")\n",
    "\n",
    "gcr_demographics_df = spark.read.option(\"recursiveFileLookup\", \"true\").load(\n",
    "    path='s3://cvm-develop/data_extracts/dev/sample_V2/demographics/gcr',\n",
    "    format='parquet'\n",
    ")"
   ],
   "metadata": {
    "collapsed": false
   }
  },
  {
   "cell_type": "code",
   "execution_count": 4,
   "outputs": [
    {
     "data": {
      "text/plain": "FloatProgress(value=0.0, bar_style='info', description='Progress:', layout=Layout(height='25px', width='50%'),…",
      "application/vnd.jupyter.widget-view+json": {
       "version_major": 2,
       "version_minor": 0,
       "model_id": "4499eef89a0c4a25a8b3f01a459944c3"
      }
     },
     "metadata": {},
     "output_type": "display_data"
    }
   ],
   "source": [
    "crf_demographics_df = crf_demographics_df.withColumn('bu', lit('crf'))\n",
    "share_demographics_df = share_demographics_df.withColumn('bu', lit('share'))\n",
    "gcr_demographics_df = gcr_demographics_df.withColumn('bu', lit('gcr'))"
   ],
   "metadata": {
    "collapsed": false
   }
  },
  {
   "cell_type": "code",
   "execution_count": 5,
   "outputs": [
    {
     "data": {
      "text/plain": "FloatProgress(value=0.0, bar_style='info', description='Progress:', layout=Layout(height='25px', width='50%'),…",
      "application/vnd.jupyter.widget-view+json": {
       "version_major": 2,
       "version_minor": 0,
       "model_id": "faf7bec1e2cd4b7b9fe46e6f4da32ba6"
      }
     },
     "metadata": {},
     "output_type": "display_data"
    }
   ],
   "source": [
    "demographics_df = crf_demographics_df.union(share_demographics_df).union(gcr_demographics_df) \\\n",
    "    .withColumn('ingestion_date', current_date().cast(StringType()))\n",
    "\n",
    "for c in demographics_df.columns:\n",
    "    demographics_df = demographics_df.withColumnRenamed(c, c.lower())"
   ],
   "metadata": {
    "collapsed": false
   }
  },
  {
   "cell_type": "code",
   "execution_count": null,
   "outputs": [],
   "source": [],
   "metadata": {
    "collapsed": false
   }
  },
  {
   "cell_type": "code",
   "execution_count": 6,
   "outputs": [
    {
     "data": {
      "text/plain": "FloatProgress(value=0.0, bar_style='info', description='Progress:', layout=Layout(height='25px', width='50%'),…",
      "application/vnd.jupyter.widget-view+json": {
       "version_major": 2,
       "version_minor": 0,
       "model_id": "5f6f2716c8bb4a84a35b442dfd80ef73"
      }
     },
     "metadata": {},
     "output_type": "display_data"
    }
   ],
   "source": [
    "for c in ['cod_sor_counterparty', 'cod_sor_owner', 'cod_sor_owner_2']:\n",
    "    demographics_df = demographics_df.withColumn(c, col(c).cast(StringType()))"
   ],
   "metadata": {
    "collapsed": false
   }
  },
  {
   "cell_type": "code",
   "execution_count": 7,
   "outputs": [
    {
     "data": {
      "text/plain": "FloatProgress(value=0.0, bar_style='info', description='Progress:', layout=Layout(height='25px', width='50%'),…",
      "application/vnd.jupyter.widget-view+json": {
       "version_major": 2,
       "version_minor": 0,
       "model_id": "c0b9497cde174b9eb63c97af1f56010c"
      }
     },
     "metadata": {},
     "output_type": "display_data"
    }
   ],
   "source": [
    "#  covert string to days\n",
    "for c in ['dat_snapshot',\n",
    "          'dat_person_optin',\n",
    "          'dat_person_telephonenumber_optin',\n",
    "          'dat_person_telephonenumber_optin_2',\n",
    "          'dat_person_email_optin',\n",
    "          'dat_person_sms_optin',\n",
    "          'dat_of_birth', ]:\n",
    "    demographics_df = demographics_df.withColumn(c, to_date(c))"
   ],
   "metadata": {
    "collapsed": false
   }
  },
  {
   "cell_type": "code",
   "execution_count": 8,
   "outputs": [
    {
     "data": {
      "text/plain": "FloatProgress(value=0.0, bar_style='info', description='Progress:', layout=Layout(height='25px', width='50%'),…",
      "application/vnd.jupyter.widget-view+json": {
       "version_major": 2,
       "version_minor": 0,
       "model_id": "cc25a6b8dbe94fec9632c71d21d28e45"
      }
     },
     "metadata": {},
     "output_type": "display_data"
    },
    {
     "name": "stdout",
     "output_type": "stream",
     "text": [
      "root\n",
      " |-- dat_snapshot: date (nullable = true)\n",
      " |-- idi_counterparty: string (nullable = true)\n",
      " |-- cod_sor_counterparty: string (nullable = true)\n",
      " |-- cdi_counterparty_role: string (nullable = true)\n",
      " |-- des_counterparty_role: string (nullable = true)\n",
      " |-- cdi_counterparty_status: string (nullable = true)\n",
      " |-- des_counterparty_status: string (nullable = true)\n",
      " |-- cde_country_residence: string (nullable = true)\n",
      " |-- nam_person_fullname: string (nullable = true)\n",
      " |-- nam_person_firstname: string (nullable = true)\n",
      " |-- nam_person_initials: string (nullable = true)\n",
      " |-- nam_person_lastname: string (nullable = true)\n",
      " |-- ind_person_gender: string (nullable = true)\n",
      " |-- nam_person_titles: string (nullable = true)\n",
      " |-- nam_person_profession: string (nullable = true)\n",
      " |-- ind_person_optin: string (nullable = true)\n",
      " |-- dat_person_optin: date (nullable = true)\n",
      " |-- ide_person_telephonenumber: string (nullable = true)\n",
      " |-- ind_person_telephonenumber_optin: string (nullable = true)\n",
      " |-- dat_person_telephonenumber_optin: date (nullable = true)\n",
      " |-- ide_person_telephonenumber_2: string (nullable = true)\n",
      " |-- ind_person_telephonenumber_optin_2: string (nullable = true)\n",
      " |-- dat_person_telephonenumber_optin_2: date (nullable = true)\n",
      " |-- ide_person_email: string (nullable = true)\n",
      " |-- ind_person_email_optin: string (nullable = true)\n",
      " |-- dat_person_email_optin: date (nullable = true)\n",
      " |-- ide_person_sms: string (nullable = true)\n",
      " |-- ind_person_sms_optin: string (nullable = true)\n",
      " |-- dat_person_sms_optin: date (nullable = true)\n",
      " |-- idi_owner: string (nullable = true)\n",
      " |-- cod_sor_owner: string (nullable = true)\n",
      " |-- idi_owner_2: string (nullable = true)\n",
      " |-- cod_sor_owner_2: string (nullable = true)\n",
      " |-- adr_postal_cde_country: string (nullable = true)\n",
      " |-- adr_postal_address_string: string (nullable = true)\n",
      " |-- adr_postal_streetname: string (nullable = true)\n",
      " |-- adr_postal_streetnumber: string (nullable = true)\n",
      " |-- adr_postal_streetnumber_addition: string (nullable = true)\n",
      " |-- adr_postal_local_specific: string (nullable = true)\n",
      " |-- adr_postal_postalcode: string (nullable = true)\n",
      " |-- adr_postal_cityname: string (nullable = true)\n",
      " |-- adr_visit_cde_country: string (nullable = true)\n",
      " |-- adr_visit_address_string: string (nullable = true)\n",
      " |-- adr_visit_streetname: string (nullable = true)\n",
      " |-- adr_visit_streetnumber: string (nullable = true)\n",
      " |-- adr_visit_streetnumber_addition: string (nullable = true)\n",
      " |-- adr_visit_local_specific: string (nullable = true)\n",
      " |-- adr_visit_postalcode: string (nullable = true)\n",
      " |-- adr_visit_cityname: string (nullable = true)\n",
      " |-- dat_of_birth: date (nullable = true)\n",
      " |-- des_age: long (nullable = true)\n",
      " |-- cde_language: string (nullable = true)\n",
      " |-- des_language: string (nullable = true)\n",
      " |-- bu: string (nullable = false)\n",
      " |-- ingestion_date: string (nullable = false)"
     ]
    }
   ],
   "source": [
    "demographics_df.printSchema()"
   ],
   "metadata": {
    "collapsed": false
   }
  },
  {
   "cell_type": "code",
   "execution_count": 11,
   "outputs": [
    {
     "data": {
      "text/plain": "FloatProgress(value=0.0, bar_style='info', description='Progress:', layout=Layout(height='25px', width='50%'),…",
      "application/vnd.jupyter.widget-view+json": {
       "version_major": 2,
       "version_minor": 0,
       "model_id": "cf180136ca5640f7a8a38460fa13780e"
      }
     },
     "metadata": {},
     "output_type": "display_data"
    }
   ],
   "source": [
    "demographics_df.write\\\n",
    "    .mode('overwrite')\\\n",
    "    .partitionBy('bu', 'ingestion_date')\\\n",
    "    .parquet('s3://cvm-landing-a6623c3/demographics')"
   ],
   "metadata": {
    "collapsed": false
   }
  },
  {
   "cell_type": "code",
   "execution_count": null,
   "outputs": [],
   "source": [],
   "metadata": {
    "collapsed": false
   }
  }
 ],
 "metadata": {
  "kernelspec": {
   "name": "pysparkkernel",
   "language": "python",
   "display_name": "PySpark"
  },
  "language_info": {
   "codemirror_mode": {
    "name": "ipython",
    "version": 2
   },
   "file_extension": ".py",
   "mimetype": "text/x-python",
   "name": "python",
   "nbconvert_exporter": "python",
   "pygments_lexer": "ipython2",
   "version": "2.7.6"
  }
 },
 "nbformat": 4,
 "nbformat_minor": 0
}
